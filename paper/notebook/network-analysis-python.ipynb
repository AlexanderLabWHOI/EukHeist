{
 "cells": [
  {
   "cell_type": "code",
   "execution_count": 1,
   "metadata": {},
   "outputs": [],
   "source": [
    "# Python file to recreate correlation calculation.\n",
    "import os\n",
    "import sys\n",
    "import pandas as pd\n",
    "import numpy as np    \n",
    "import networkx as nx\n",
    "import scipy\n",
    "from scipy import stats\n",
    "from joblib import Parallel, delayed\n",
    "import multiprocessing\n",
    "num_cores = multiprocessing.cpu_count()\n",
    "import matplotlib\n",
    "import matplotlib.pyplot as plt\n",
    "import plotnine\n",
    "from plotnine import ggplot, aes, geom_line, geom_bar\n",
    "from plotnine import *\n",
    "\n",
    "def calculate_spearman(col1, col2):\n",
    "    return stats.spearmanr(col1, col2).pvalue\n",
    "\n",
    "def calculate_pvalues(df):\n",
    "    df = df.dropna()._get_numeric_data()\n",
    "    pvalues = Parallel(n_jobs=num_cores)(delayed(calculate_spearman)(df.iloc[:,i], df.iloc[:,j]) \\\n",
    "        for i in range(len(df.columns)) \\\n",
    "        for j in range(i,len(df.columns)))\n",
    "    return pvalues\n",
    "\n",
    "def calc_correlations(numericmatrix, strong_threshold = 0.5):\n",
    "    from scipy import stats\n",
    "    correlation_spearman, pvalues = stats.spearmanr(numericmatrix.T)\n",
    "    correlation_spearman = pd.DataFrame(correlation_spearman, columns = numericmatrix.T.columns)\n",
    "    pvalues = pd.DataFrame(pvalues, columns = numericmatrix.T.columns)\n",
    "    correlation_spearman[\"mag2\"] = correlation_spearman.columns\n",
    "    pvalues[\"mag2\"] = pvalues.columns\n",
    "    pvals_melted = pvalues.melt(id_vars = \"mag2\", var_name = \"mag1\", value_name = \"pval\")\n",
    "    corr_melted = correlation_spearman.melt(id_vars = \"mag2\", var_name = \"mag1\", value_name = \"corrcoef\")\n",
    "    pvals_melted = pvals_melted[(pvals_melted.pval == pvals_melted.pval)]\n",
    "    combined_graph = pd.merge(corr_melted, pvals_melted, how = \"right\")\n",
    "    # Sidak:\n",
    "    filtered_graph = combined_graph[combined_graph.pval < (1-(1-0.05)**(1/len(combined_graph.index)))]\n",
    "    filtered_strong_connections = combined_graph[abs(combined_graph.corrcoef) > strong_threshold]\n",
    "    return combined_graph, filtered_strong_connections\n",
    "\n",
    "datamatrix_tpm = pd.read_csv(os.path.join(\"..\",\"input\",\"MAG_tpm_new_approach.csv\"))\n",
    "datamatrix_tpm = datamatrix_tpm[datamatrix_tpm.Genome != \"unmapped\"]\n",
    "datamatrix_tpm.index = datamatrix_tpm.Genome\n",
    "datamatrix_tpm = datamatrix_tpm.drop(columns=['Genome',\"Unnamed: 0\"])\n",
    "qualify_cols = datamatrix_tpm.sum(axis=0)\n",
    "numericmatrix_tpm = datamatrix_tpm.loc[:,qualify_cols > 0]\n",
    "datamatrix_tpm[\"Method\"] = \"TPM\"\n",
    "combined_graph_tpm, filtered_strong_connections_tpm = calc_correlations(numericmatrix_tpm)\n",
    "combined_graph_tpm.to_csv(os.path.join(\"..\",\"input\",\"combined_graph_tpm_fullpval.csv\"))"
   ]
  },
  {
   "cell_type": "code",
   "execution_count": 2,
   "metadata": {},
   "outputs": [],
   "source": [
    "datamatrix_rpkm = pd.read_csv(os.path.join(\"..\",\"input\",\"MAG_rpkm_new_approach.csv\"))\n",
    "datamatrix_rpkm = datamatrix_rpkm[datamatrix_rpkm.new_mag_name != \"unmapped\"]\n",
    "datamatrix_rpkm.index = datamatrix_rpkm.new_mag_name\n",
    "datamatrix_rpkm = datamatrix_rpkm.drop(columns=['new_mag_name',\"Unnamed: 0\",\"old_mag_name\"])\n",
    "qualify_cols = datamatrix_rpkm.sum(axis=0)\n",
    "numericmatrix_rpkm = datamatrix_rpkm.loc[:,qualify_cols > 0]\n",
    "datamatrix_rpkm[\"Method\"] = \"RPKM\"\n",
    "combined_graph_rpkm, filtered_strong_connections_rpkm = calc_correlations(numericmatrix_rpkm)\n",
    "combined_graph_rpkm.to_csv(os.path.join(\"..\",\"input\",\"combined_graph_rpkm_fullpval.csv\"))"
   ]
  },
  {
   "cell_type": "code",
   "execution_count": null,
   "metadata": {},
   "outputs": [],
   "source": []
  }
 ],
 "metadata": {
  "kernelspec": {
   "display_name": "scplotenv",
   "language": "python",
   "name": "scplotenv"
  },
  "language_info": {
   "codemirror_mode": {
    "name": "ipython",
    "version": 3
   },
   "file_extension": ".py",
   "mimetype": "text/x-python",
   "name": "python",
   "nbconvert_exporter": "python",
   "pygments_lexer": "ipython3",
   "version": "3.8.3"
  }
 },
 "nbformat": 4,
 "nbformat_minor": 2
}
